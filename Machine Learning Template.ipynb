{
  "nbformat": 4,
  "nbformat_minor": 2,
  "metadata": {
    "colab": {
      "name": "BUAT JOKI MALIN.ipynb",
      "provenance": [],
      "collapsed_sections": [
        "fNjeHaYpbS0_",
        "BGTUqke5SBSo",
        "Ju_YXqwk2858"
      ]
    },
    "kernelspec": {
      "name": "python3",
      "display_name": "Python 3"
    },
    "language_info": {
      "name": "python"
    }
  },
  "cells": [
    {
      "cell_type": "markdown",
      "source": [
        "**Data Exploration sama preprocessing ambil dari tugas clustering**"
      ],
      "metadata": {
        "id": "yJSLmzlvay56"
      }
    },
    {
      "cell_type": "code",
      "execution_count": null,
      "source": [
        "import pandas as pd\r\n",
        "import numpy as np\r\n",
        "import matplotlib.pyplot as plt\r\n",
        "import seaborn as sns\r\n",
        "import random as rand"
      ],
      "outputs": [],
      "metadata": {
        "id": "DkhEwGKvGKV_"
      }
    },
    {
      "cell_type": "code",
      "execution_count": null,
      "source": [
        "kendaraan = pd.read_csv(\"kendaraan_train.csv\")\r\n",
        "kendaraan.head()"
      ],
      "outputs": [
        {
          "output_type": "execute_result",
          "data": {
            "text/html": [
              "<div>\n",
              "<style scoped>\n",
              "    .dataframe tbody tr th:only-of-type {\n",
              "        vertical-align: middle;\n",
              "    }\n",
              "\n",
              "    .dataframe tbody tr th {\n",
              "        vertical-align: top;\n",
              "    }\n",
              "\n",
              "    .dataframe thead th {\n",
              "        text-align: right;\n",
              "    }\n",
              "</style>\n",
              "<table border=\"1\" class=\"dataframe\">\n",
              "  <thead>\n",
              "    <tr style=\"text-align: right;\">\n",
              "      <th></th>\n",
              "      <th>id</th>\n",
              "      <th>Jenis_Kelamin</th>\n",
              "      <th>Umur</th>\n",
              "      <th>SIM</th>\n",
              "      <th>Kode_Daerah</th>\n",
              "      <th>Sudah_Asuransi</th>\n",
              "      <th>Umur_Kendaraan</th>\n",
              "      <th>Kendaraan_Rusak</th>\n",
              "      <th>Premi</th>\n",
              "      <th>Kanal_Penjualan</th>\n",
              "      <th>Lama_Berlangganan</th>\n",
              "      <th>Tertarik</th>\n",
              "    </tr>\n",
              "  </thead>\n",
              "  <tbody>\n",
              "    <tr>\n",
              "      <th>0</th>\n",
              "      <td>1</td>\n",
              "      <td>Wanita</td>\n",
              "      <td>30.0</td>\n",
              "      <td>1.0</td>\n",
              "      <td>33.0</td>\n",
              "      <td>1.0</td>\n",
              "      <td>&lt; 1 Tahun</td>\n",
              "      <td>Tidak</td>\n",
              "      <td>28029.0</td>\n",
              "      <td>152.0</td>\n",
              "      <td>97.0</td>\n",
              "      <td>0</td>\n",
              "    </tr>\n",
              "    <tr>\n",
              "      <th>1</th>\n",
              "      <td>2</td>\n",
              "      <td>Pria</td>\n",
              "      <td>48.0</td>\n",
              "      <td>1.0</td>\n",
              "      <td>39.0</td>\n",
              "      <td>0.0</td>\n",
              "      <td>&gt; 2 Tahun</td>\n",
              "      <td>Pernah</td>\n",
              "      <td>25800.0</td>\n",
              "      <td>29.0</td>\n",
              "      <td>158.0</td>\n",
              "      <td>0</td>\n",
              "    </tr>\n",
              "    <tr>\n",
              "      <th>2</th>\n",
              "      <td>3</td>\n",
              "      <td>NaN</td>\n",
              "      <td>21.0</td>\n",
              "      <td>1.0</td>\n",
              "      <td>46.0</td>\n",
              "      <td>1.0</td>\n",
              "      <td>&lt; 1 Tahun</td>\n",
              "      <td>Tidak</td>\n",
              "      <td>32733.0</td>\n",
              "      <td>160.0</td>\n",
              "      <td>119.0</td>\n",
              "      <td>0</td>\n",
              "    </tr>\n",
              "    <tr>\n",
              "      <th>3</th>\n",
              "      <td>4</td>\n",
              "      <td>Wanita</td>\n",
              "      <td>58.0</td>\n",
              "      <td>1.0</td>\n",
              "      <td>48.0</td>\n",
              "      <td>0.0</td>\n",
              "      <td>1-2 Tahun</td>\n",
              "      <td>Tidak</td>\n",
              "      <td>2630.0</td>\n",
              "      <td>124.0</td>\n",
              "      <td>63.0</td>\n",
              "      <td>0</td>\n",
              "    </tr>\n",
              "    <tr>\n",
              "      <th>4</th>\n",
              "      <td>5</td>\n",
              "      <td>Pria</td>\n",
              "      <td>50.0</td>\n",
              "      <td>1.0</td>\n",
              "      <td>35.0</td>\n",
              "      <td>0.0</td>\n",
              "      <td>&gt; 2 Tahun</td>\n",
              "      <td>NaN</td>\n",
              "      <td>34857.0</td>\n",
              "      <td>88.0</td>\n",
              "      <td>194.0</td>\n",
              "      <td>0</td>\n",
              "    </tr>\n",
              "  </tbody>\n",
              "</table>\n",
              "</div>"
            ],
            "text/plain": [
              "   id Jenis_Kelamin  Umur  ...  Kanal_Penjualan  Lama_Berlangganan  Tertarik\n",
              "0   1        Wanita  30.0  ...            152.0               97.0         0\n",
              "1   2          Pria  48.0  ...             29.0              158.0         0\n",
              "2   3           NaN  21.0  ...            160.0              119.0         0\n",
              "3   4        Wanita  58.0  ...            124.0               63.0         0\n",
              "4   5          Pria  50.0  ...             88.0              194.0         0\n",
              "\n",
              "[5 rows x 12 columns]"
            ]
          },
          "metadata": {},
          "execution_count": 45
        }
      ],
      "metadata": {
        "colab": {
          "base_uri": "https://localhost:8080/",
          "height": 224
        },
        "id": "W2sZCf7WHxM8",
        "outputId": "a44b528f-fec5-47b3-a7b8-1676616e0c70"
      }
    },
    {
      "cell_type": "markdown",
      "source": [
        "# ISI SENDIRI DATA EXPLORATION AMA PRE PROCESSING"
      ],
      "metadata": {
        "id": "fNjeHaYpbS0_"
      }
    },
    {
      "cell_type": "markdown",
      "source": [
        "## Data Exploration"
      ],
      "metadata": {
        "id": "BGTUqke5SBSo"
      }
    },
    {
      "cell_type": "code",
      "execution_count": null,
      "source": [
        "print(\"Data size before preprocessing: \",len(kendaraan))\r\n",
        "print(\"Empty Datas :\")\r\n",
        "kendaraan.isnull().sum()"
      ],
      "outputs": [
        {
          "output_type": "stream",
          "name": "stdout",
          "text": [
            "Data size before preprocessing:  285831\n",
            "Empty Datas :\n"
          ]
        },
        {
          "output_type": "execute_result",
          "data": {
            "text/plain": [
              "id                       0\n",
              "Jenis_Kelamin        14440\n",
              "Umur                 14214\n",
              "SIM                  14404\n",
              "Kode_Daerah          14306\n",
              "Sudah_Asuransi       14229\n",
              "Umur_Kendaraan       14275\n",
              "Kendaraan_Rusak      14188\n",
              "Premi                14569\n",
              "Kanal_Penjualan      14299\n",
              "Lama_Berlangganan    13992\n",
              "Tertarik                 0\n",
              "dtype: int64"
            ]
          },
          "metadata": {},
          "execution_count": 46
        }
      ],
      "metadata": {
        "colab": {
          "base_uri": "https://localhost:8080/"
        },
        "id": "IitHHNUepAOh",
        "outputId": "ad09041c-23ac-4134-a43a-3b95220449e6"
      }
    },
    {
      "cell_type": "code",
      "execution_count": null,
      "source": [
        "kendaraan.describe()"
      ],
      "outputs": [
        {
          "output_type": "execute_result",
          "data": {
            "text/html": [
              "<div>\n",
              "<style scoped>\n",
              "    .dataframe tbody tr th:only-of-type {\n",
              "        vertical-align: middle;\n",
              "    }\n",
              "\n",
              "    .dataframe tbody tr th {\n",
              "        vertical-align: top;\n",
              "    }\n",
              "\n",
              "    .dataframe thead th {\n",
              "        text-align: right;\n",
              "    }\n",
              "</style>\n",
              "<table border=\"1\" class=\"dataframe\">\n",
              "  <thead>\n",
              "    <tr style=\"text-align: right;\">\n",
              "      <th></th>\n",
              "      <th>id</th>\n",
              "      <th>Umur</th>\n",
              "      <th>SIM</th>\n",
              "      <th>Kode_Daerah</th>\n",
              "      <th>Sudah_Asuransi</th>\n",
              "      <th>Premi</th>\n",
              "      <th>Kanal_Penjualan</th>\n",
              "      <th>Lama_Berlangganan</th>\n",
              "      <th>Tertarik</th>\n",
              "    </tr>\n",
              "  </thead>\n",
              "  <tbody>\n",
              "    <tr>\n",
              "      <th>count</th>\n",
              "      <td>285831.000000</td>\n",
              "      <td>271617.000000</td>\n",
              "      <td>271427.000000</td>\n",
              "      <td>271525.000000</td>\n",
              "      <td>271602.000000</td>\n",
              "      <td>271262.000000</td>\n",
              "      <td>271532.000000</td>\n",
              "      <td>271839.000000</td>\n",
              "      <td>285831.000000</td>\n",
              "    </tr>\n",
              "    <tr>\n",
              "      <th>mean</th>\n",
              "      <td>142916.000000</td>\n",
              "      <td>38.844336</td>\n",
              "      <td>0.997848</td>\n",
              "      <td>26.405410</td>\n",
              "      <td>0.458778</td>\n",
              "      <td>30536.683472</td>\n",
              "      <td>112.021567</td>\n",
              "      <td>154.286302</td>\n",
              "      <td>0.122471</td>\n",
              "    </tr>\n",
              "    <tr>\n",
              "      <th>std</th>\n",
              "      <td>82512.446734</td>\n",
              "      <td>15.522487</td>\n",
              "      <td>0.046335</td>\n",
              "      <td>13.252714</td>\n",
              "      <td>0.498299</td>\n",
              "      <td>17155.000770</td>\n",
              "      <td>54.202457</td>\n",
              "      <td>83.694910</td>\n",
              "      <td>0.327830</td>\n",
              "    </tr>\n",
              "    <tr>\n",
              "      <th>min</th>\n",
              "      <td>1.000000</td>\n",
              "      <td>20.000000</td>\n",
              "      <td>0.000000</td>\n",
              "      <td>0.000000</td>\n",
              "      <td>0.000000</td>\n",
              "      <td>2630.000000</td>\n",
              "      <td>1.000000</td>\n",
              "      <td>10.000000</td>\n",
              "      <td>0.000000</td>\n",
              "    </tr>\n",
              "    <tr>\n",
              "      <th>25%</th>\n",
              "      <td>71458.500000</td>\n",
              "      <td>25.000000</td>\n",
              "      <td>1.000000</td>\n",
              "      <td>15.000000</td>\n",
              "      <td>0.000000</td>\n",
              "      <td>24398.000000</td>\n",
              "      <td>29.000000</td>\n",
              "      <td>82.000000</td>\n",
              "      <td>0.000000</td>\n",
              "    </tr>\n",
              "    <tr>\n",
              "      <th>50%</th>\n",
              "      <td>142916.000000</td>\n",
              "      <td>36.000000</td>\n",
              "      <td>1.000000</td>\n",
              "      <td>28.000000</td>\n",
              "      <td>0.000000</td>\n",
              "      <td>31646.000000</td>\n",
              "      <td>132.000000</td>\n",
              "      <td>154.000000</td>\n",
              "      <td>0.000000</td>\n",
              "    </tr>\n",
              "    <tr>\n",
              "      <th>75%</th>\n",
              "      <td>214373.500000</td>\n",
              "      <td>49.000000</td>\n",
              "      <td>1.000000</td>\n",
              "      <td>35.000000</td>\n",
              "      <td>1.000000</td>\n",
              "      <td>39377.750000</td>\n",
              "      <td>152.000000</td>\n",
              "      <td>227.000000</td>\n",
              "      <td>0.000000</td>\n",
              "    </tr>\n",
              "    <tr>\n",
              "      <th>max</th>\n",
              "      <td>285831.000000</td>\n",
              "      <td>85.000000</td>\n",
              "      <td>1.000000</td>\n",
              "      <td>52.000000</td>\n",
              "      <td>1.000000</td>\n",
              "      <td>540165.000000</td>\n",
              "      <td>163.000000</td>\n",
              "      <td>299.000000</td>\n",
              "      <td>1.000000</td>\n",
              "    </tr>\n",
              "  </tbody>\n",
              "</table>\n",
              "</div>"
            ],
            "text/plain": [
              "                  id           Umur  ...  Lama_Berlangganan       Tertarik\n",
              "count  285831.000000  271617.000000  ...      271839.000000  285831.000000\n",
              "mean   142916.000000      38.844336  ...         154.286302       0.122471\n",
              "std     82512.446734      15.522487  ...          83.694910       0.327830\n",
              "min         1.000000      20.000000  ...          10.000000       0.000000\n",
              "25%     71458.500000      25.000000  ...          82.000000       0.000000\n",
              "50%    142916.000000      36.000000  ...         154.000000       0.000000\n",
              "75%    214373.500000      49.000000  ...         227.000000       0.000000\n",
              "max    285831.000000      85.000000  ...         299.000000       1.000000\n",
              "\n",
              "[8 rows x 9 columns]"
            ]
          },
          "metadata": {},
          "execution_count": 47
        }
      ],
      "metadata": {
        "colab": {
          "base_uri": "https://localhost:8080/"
        },
        "id": "HbiB87GKX7-G",
        "outputId": "73479961-91d0-4298-9b24-4285b10b338a"
      }
    },
    {
      "cell_type": "code",
      "execution_count": null,
      "source": [
        "kendaraan.info()"
      ],
      "outputs": [
        {
          "output_type": "stream",
          "name": "stdout",
          "text": [
            "<class 'pandas.core.frame.DataFrame'>\n",
            "RangeIndex: 285831 entries, 0 to 285830\n",
            "Data columns (total 12 columns):\n",
            " #   Column             Non-Null Count   Dtype  \n",
            "---  ------             --------------   -----  \n",
            " 0   id                 285831 non-null  int64  \n",
            " 1   Jenis_Kelamin      271391 non-null  object \n",
            " 2   Umur               271617 non-null  float64\n",
            " 3   SIM                271427 non-null  float64\n",
            " 4   Kode_Daerah        271525 non-null  float64\n",
            " 5   Sudah_Asuransi     271602 non-null  float64\n",
            " 6   Umur_Kendaraan     271556 non-null  object \n",
            " 7   Kendaraan_Rusak    271643 non-null  object \n",
            " 8   Premi              271262 non-null  float64\n",
            " 9   Kanal_Penjualan    271532 non-null  float64\n",
            " 10  Lama_Berlangganan  271839 non-null  float64\n",
            " 11  Tertarik           285831 non-null  int64  \n",
            "dtypes: float64(7), int64(2), object(3)\n",
            "memory usage: 26.2+ MB\n"
          ]
        }
      ],
      "metadata": {
        "colab": {
          "base_uri": "https://localhost:8080/"
        },
        "id": "SKdciMRrX37N",
        "outputId": "9de4e402-31b9-4d23-d213-6cf764ef2e17"
      }
    },
    {
      "cell_type": "code",
      "execution_count": null,
      "source": [
        "kendaraan.corr()"
      ],
      "outputs": [
        {
          "output_type": "execute_result",
          "data": {
            "text/html": [
              "<div>\n",
              "<style scoped>\n",
              "    .dataframe tbody tr th:only-of-type {\n",
              "        vertical-align: middle;\n",
              "    }\n",
              "\n",
              "    .dataframe tbody tr th {\n",
              "        vertical-align: top;\n",
              "    }\n",
              "\n",
              "    .dataframe thead th {\n",
              "        text-align: right;\n",
              "    }\n",
              "</style>\n",
              "<table border=\"1\" class=\"dataframe\">\n",
              "  <thead>\n",
              "    <tr style=\"text-align: right;\">\n",
              "      <th></th>\n",
              "      <th>id</th>\n",
              "      <th>Umur</th>\n",
              "      <th>SIM</th>\n",
              "      <th>Kode_Daerah</th>\n",
              "      <th>Sudah_Asuransi</th>\n",
              "      <th>Premi</th>\n",
              "      <th>Kanal_Penjualan</th>\n",
              "      <th>Lama_Berlangganan</th>\n",
              "      <th>Tertarik</th>\n",
              "    </tr>\n",
              "  </thead>\n",
              "  <tbody>\n",
              "    <tr>\n",
              "      <th>id</th>\n",
              "      <td>1.000000</td>\n",
              "      <td>0.001729</td>\n",
              "      <td>-0.002658</td>\n",
              "      <td>0.002114</td>\n",
              "      <td>-0.003043</td>\n",
              "      <td>0.002292</td>\n",
              "      <td>-0.001500</td>\n",
              "      <td>0.000913</td>\n",
              "      <td>0.000972</td>\n",
              "    </tr>\n",
              "    <tr>\n",
              "      <th>Umur</th>\n",
              "      <td>0.001729</td>\n",
              "      <td>1.000000</td>\n",
              "      <td>-0.079467</td>\n",
              "      <td>0.043603</td>\n",
              "      <td>-0.255006</td>\n",
              "      <td>0.064634</td>\n",
              "      <td>-0.577722</td>\n",
              "      <td>0.000147</td>\n",
              "      <td>0.109888</td>\n",
              "    </tr>\n",
              "    <tr>\n",
              "      <th>SIM</th>\n",
              "      <td>-0.002658</td>\n",
              "      <td>-0.079467</td>\n",
              "      <td>1.000000</td>\n",
              "      <td>-0.003359</td>\n",
              "      <td>0.016073</td>\n",
              "      <td>-0.011315</td>\n",
              "      <td>0.043426</td>\n",
              "      <td>-0.001266</td>\n",
              "      <td>0.009588</td>\n",
              "    </tr>\n",
              "    <tr>\n",
              "      <th>Kode_Daerah</th>\n",
              "      <td>0.002114</td>\n",
              "      <td>0.043603</td>\n",
              "      <td>-0.003359</td>\n",
              "      <td>1.000000</td>\n",
              "      <td>-0.024533</td>\n",
              "      <td>-0.011887</td>\n",
              "      <td>-0.043216</td>\n",
              "      <td>-0.003639</td>\n",
              "      <td>0.010186</td>\n",
              "    </tr>\n",
              "    <tr>\n",
              "      <th>Sudah_Asuransi</th>\n",
              "      <td>-0.003043</td>\n",
              "      <td>-0.255006</td>\n",
              "      <td>0.016073</td>\n",
              "      <td>-0.024533</td>\n",
              "      <td>1.000000</td>\n",
              "      <td>0.005903</td>\n",
              "      <td>0.221767</td>\n",
              "      <td>0.002757</td>\n",
              "      <td>-0.340917</td>\n",
              "    </tr>\n",
              "    <tr>\n",
              "      <th>Premi</th>\n",
              "      <td>0.002292</td>\n",
              "      <td>0.064634</td>\n",
              "      <td>-0.011315</td>\n",
              "      <td>-0.011887</td>\n",
              "      <td>0.005903</td>\n",
              "      <td>1.000000</td>\n",
              "      <td>-0.112187</td>\n",
              "      <td>-0.000750</td>\n",
              "      <td>0.023770</td>\n",
              "    </tr>\n",
              "    <tr>\n",
              "      <th>Kanal_Penjualan</th>\n",
              "      <td>-0.001500</td>\n",
              "      <td>-0.577722</td>\n",
              "      <td>0.043426</td>\n",
              "      <td>-0.043216</td>\n",
              "      <td>0.221767</td>\n",
              "      <td>-0.112187</td>\n",
              "      <td>1.000000</td>\n",
              "      <td>0.000327</td>\n",
              "      <td>-0.140931</td>\n",
              "    </tr>\n",
              "    <tr>\n",
              "      <th>Lama_Berlangganan</th>\n",
              "      <td>0.000913</td>\n",
              "      <td>0.000147</td>\n",
              "      <td>-0.001266</td>\n",
              "      <td>-0.003639</td>\n",
              "      <td>0.002757</td>\n",
              "      <td>-0.000750</td>\n",
              "      <td>0.000327</td>\n",
              "      <td>1.000000</td>\n",
              "      <td>-0.002225</td>\n",
              "    </tr>\n",
              "    <tr>\n",
              "      <th>Tertarik</th>\n",
              "      <td>0.000972</td>\n",
              "      <td>0.109888</td>\n",
              "      <td>0.009588</td>\n",
              "      <td>0.010186</td>\n",
              "      <td>-0.340917</td>\n",
              "      <td>0.023770</td>\n",
              "      <td>-0.140931</td>\n",
              "      <td>-0.002225</td>\n",
              "      <td>1.000000</td>\n",
              "    </tr>\n",
              "  </tbody>\n",
              "</table>\n",
              "</div>"
            ],
            "text/plain": [
              "                         id      Umur  ...  Lama_Berlangganan  Tertarik\n",
              "id                 1.000000  0.001729  ...           0.000913  0.000972\n",
              "Umur               0.001729  1.000000  ...           0.000147  0.109888\n",
              "SIM               -0.002658 -0.079467  ...          -0.001266  0.009588\n",
              "Kode_Daerah        0.002114  0.043603  ...          -0.003639  0.010186\n",
              "Sudah_Asuransi    -0.003043 -0.255006  ...           0.002757 -0.340917\n",
              "Premi              0.002292  0.064634  ...          -0.000750  0.023770\n",
              "Kanal_Penjualan   -0.001500 -0.577722  ...           0.000327 -0.140931\n",
              "Lama_Berlangganan  0.000913  0.000147  ...           1.000000 -0.002225\n",
              "Tertarik           0.000972  0.109888  ...          -0.002225  1.000000\n",
              "\n",
              "[9 rows x 9 columns]"
            ]
          },
          "metadata": {},
          "execution_count": 49
        }
      ],
      "metadata": {
        "colab": {
          "base_uri": "https://localhost:8080/"
        },
        "id": "z8X5ieYUYYxf",
        "outputId": "3608d3aa-1952-42d7-d78c-bba922e1e226"
      }
    },
    {
      "cell_type": "code",
      "execution_count": null,
      "source": [
        "sns.heatmap(kendaraan.corr())"
      ],
      "outputs": [
        {
          "output_type": "execute_result",
          "data": {
            "text/plain": [
              "<matplotlib.axes._subplots.AxesSubplot at 0x7f6febf009d0>"
            ]
          },
          "metadata": {},
          "execution_count": 50
        },
        {
          "output_type": "display_data",
          "data": {
            "image/png": "[encoded data removed]",
            "text/plain": [
              "<Figure size 432x288 with 2 Axes>"
            ]
          },
          "metadata": {
            "needs_background": "light"
          }
        }
      ],
      "metadata": {
        "colab": {
          "base_uri": "https://localhost:8080/"
        },
        "id": "wV3eDhT7YoTg",
        "outputId": "fbdd5284-92e9-4971-e194-49bb7eed4a1a"
      }
    },
    {
      "cell_type": "markdown",
      "source": [
        "## Pre Processing"
      ],
      "metadata": {
        "id": "Ju_YXqwk2858"
      }
    },
    {
      "cell_type": "markdown",
      "source": [
        "Changing all data to be numerical. If the data types is an enum, then return the index values of each enum."
      ],
      "metadata": {
        "id": "ODJjeocD6-yM"
      }
    },
    {
      "cell_type": "code",
      "execution_count": null,
      "source": [
        "def toNumeric(dataset) :\n",
        "  tmp = dataset.copy()\n",
        "  listcol = list(tmp.columns)\n",
        "  datatypecol = dict(tmp.dtypes)\n",
        "  variasi = []\n",
        "  for x in listcol:\n",
        "    if datatypecol.get(x) == \"object\" :\n",
        "      variasi.append((x,list(dataset.groupby(x).groups.keys())))\n",
        "  for x in variasi:\n",
        "    #tmp[x[0]] = tmp[x[0]].replace([])\n",
        "    for i in x[1] :\n",
        "      idx = x[1].index(i)\n",
        "      tmp[x[0]] = tmp[x[0]].replace([i],idx)\n",
        "\n",
        "  return tmp\n",
        "\n",
        "numerick = toNumeric(kendaraan)\n",
        "numerick.head()"
      ],
      "outputs": [
        {
          "output_type": "execute_result",
          "data": {
            "text/html": [
              "<div>\n",
              "<style scoped>\n",
              "    .dataframe tbody tr th:only-of-type {\n",
              "        vertical-align: middle;\n",
              "    }\n",
              "\n",
              "    .dataframe tbody tr th {\n",
              "        vertical-align: top;\n",
              "    }\n",
              "\n",
              "    .dataframe thead th {\n",
              "        text-align: right;\n",
              "    }\n",
              "</style>\n",
              "<table border=\"1\" class=\"dataframe\">\n",
              "  <thead>\n",
              "    <tr style=\"text-align: right;\">\n",
              "      <th></th>\n",
              "      <th>id</th>\n",
              "      <th>Jenis_Kelamin</th>\n",
              "      <th>Umur</th>\n",
              "      <th>SIM</th>\n",
              "      <th>Kode_Daerah</th>\n",
              "      <th>Sudah_Asuransi</th>\n",
              "      <th>Umur_Kendaraan</th>\n",
              "      <th>Kendaraan_Rusak</th>\n",
              "      <th>Premi</th>\n",
              "      <th>Kanal_Penjualan</th>\n",
              "      <th>Lama_Berlangganan</th>\n",
              "      <th>Tertarik</th>\n",
              "    </tr>\n",
              "  </thead>\n",
              "  <tbody>\n",
              "    <tr>\n",
              "      <th>0</th>\n",
              "      <td>1</td>\n",
              "      <td>1.0</td>\n",
              "      <td>30.0</td>\n",
              "      <td>1.0</td>\n",
              "      <td>33.0</td>\n",
              "      <td>1.0</td>\n",
              "      <td>1.0</td>\n",
              "      <td>1.0</td>\n",
              "      <td>28029.0</td>\n",
              "      <td>152.0</td>\n",
              "      <td>97.0</td>\n",
              "      <td>0</td>\n",
              "    </tr>\n",
              "    <tr>\n",
              "      <th>1</th>\n",
              "      <td>2</td>\n",
              "      <td>0.0</td>\n",
              "      <td>48.0</td>\n",
              "      <td>1.0</td>\n",
              "      <td>39.0</td>\n",
              "      <td>0.0</td>\n",
              "      <td>2.0</td>\n",
              "      <td>0.0</td>\n",
              "      <td>25800.0</td>\n",
              "      <td>29.0</td>\n",
              "      <td>158.0</td>\n",
              "      <td>0</td>\n",
              "    </tr>\n",
              "    <tr>\n",
              "      <th>2</th>\n",
              "      <td>3</td>\n",
              "      <td>NaN</td>\n",
              "      <td>21.0</td>\n",
              "      <td>1.0</td>\n",
              "      <td>46.0</td>\n",
              "      <td>1.0</td>\n",
              "      <td>1.0</td>\n",
              "      <td>1.0</td>\n",
              "      <td>32733.0</td>\n",
              "      <td>160.0</td>\n",
              "      <td>119.0</td>\n",
              "      <td>0</td>\n",
              "    </tr>\n",
              "    <tr>\n",
              "      <th>3</th>\n",
              "      <td>4</td>\n",
              "      <td>1.0</td>\n",
              "      <td>58.0</td>\n",
              "      <td>1.0</td>\n",
              "      <td>48.0</td>\n",
              "      <td>0.0</td>\n",
              "      <td>0.0</td>\n",
              "      <td>1.0</td>\n",
              "      <td>2630.0</td>\n",
              "      <td>124.0</td>\n",
              "      <td>63.0</td>\n",
              "      <td>0</td>\n",
              "    </tr>\n",
              "    <tr>\n",
              "      <th>4</th>\n",
              "      <td>5</td>\n",
              "      <td>0.0</td>\n",
              "      <td>50.0</td>\n",
              "      <td>1.0</td>\n",
              "      <td>35.0</td>\n",
              "      <td>0.0</td>\n",
              "      <td>2.0</td>\n",
              "      <td>NaN</td>\n",
              "      <td>34857.0</td>\n",
              "      <td>88.0</td>\n",
              "      <td>194.0</td>\n",
              "      <td>0</td>\n",
              "    </tr>\n",
              "  </tbody>\n",
              "</table>\n",
              "</div>"
            ],
            "text/plain": [
              "   id  Jenis_Kelamin  Umur  ...  Kanal_Penjualan  Lama_Berlangganan  Tertarik\n",
              "0   1            1.0  30.0  ...            152.0               97.0         0\n",
              "1   2            0.0  48.0  ...             29.0              158.0         0\n",
              "2   3            NaN  21.0  ...            160.0              119.0         0\n",
              "3   4            1.0  58.0  ...            124.0               63.0         0\n",
              "4   5            0.0  50.0  ...             88.0              194.0         0\n",
              "\n",
              "[5 rows x 12 columns]"
            ]
          },
          "metadata": {},
          "execution_count": 51
        }
      ],
      "metadata": {
        "colab": {
          "base_uri": "https://localhost:8080/"
        },
        "id": "RBmXXT0O3IsO",
        "outputId": "66aa3508-4e1a-4c47-fb1e-f2b800272347"
      }
    },
    {
      "cell_type": "markdown",
      "source": [
        "Creating a list of column that if there is a NaN value in this column then don't drop the row"
      ],
      "metadata": {
        "id": "HB9Pw-a47YH4"
      }
    },
    {
      "cell_type": "code",
      "execution_count": null,
      "source": [
        "def DoNotDropList(dataset):\n",
        "  dropnanlist = []\n",
        "  datatypecol = dict(dataset.dtypes)\n",
        "  listcol = list(dataset.columns)\n",
        "  for x in listcol:\n",
        "    ngroup = dataset.groupby(x).ngroups\n",
        "    if ngroup > 5:\n",
        "      dropnanlist.append(x)\n",
        "  return dropnanlist\n",
        "  \n",
        "nodrop = DoNotDropList(numerick) \n",
        "print(nodrop)"
      ],
      "outputs": [
        {
          "output_type": "stream",
          "name": "stdout",
          "text": [
            "['id', 'Umur', 'Kode_Daerah', 'Premi', 'Kanal_Penjualan', 'Lama_Berlangganan']\n"
          ]
        }
      ],
      "metadata": {
        "colab": {
          "base_uri": "https://localhost:8080/"
        },
        "id": "kIUqDSdQ3lfv",
        "outputId": "bbd93776-03f2-4d0a-a411-f57796c679f9"
      }
    },
    {
      "cell_type": "markdown",
      "source": [
        "From the function above, we use it here. Calculate the skewness of each column then if the skewness of the column is between 2 and -2, then calculate the mean of the column and fill the empty data with it. Else, calculate the median of the column and fill the empty data with it."
      ],
      "metadata": {
        "id": "6X5Efs527qFA"
      }
    },
    {
      "cell_type": "code",
      "execution_count": null,
      "source": [
        "def FillNanSkew(dataset):\n",
        "  dndlist = DoNotDropList(dataset)\n",
        "  skew = dataset[dndlist].skew(axis=0, skipna=True)\n",
        "  #skewness > 2 or < -2 = median\n",
        "  #else mean\n",
        "  for i in range(len(skew)):\n",
        "    if skew[i] > -2 and skew[i] < 2 :\n",
        "      dataset[dndlist[i]].fillna(dataset[dndlist[i]].mean(),inplace=True)\n",
        "    else:\n",
        "      dataset[dndlist[i]].fillna(dataset[dndlist[i]].median(),inplace=True)\n",
        "  return dataset\n"
      ],
      "outputs": [],
      "metadata": {
        "id": "NNvKwNDj7G-G"
      }
    },
    {
      "cell_type": "markdown",
      "source": [
        "This function is the opposite of the function above. If the column type is enum and the data is empty then drop the row"
      ],
      "metadata": {
        "id": "rz6oGTLW8RTR"
      }
    },
    {
      "cell_type": "code",
      "execution_count": null,
      "source": [
        "def DropNan(dataset):\n",
        "  droplist = []\n",
        "  datatypecol = dict(dataset.dtypes)\n",
        "  listcol = list(dataset.columns)\n",
        "  for x in listcol:\n",
        "    ngroup = dataset.groupby(x).ngroups\n",
        "    if ngroup <= 5:\n",
        "      dataset = dataset[dataset[x].notna()]\n",
        "  return dataset\n",
        "\n",
        "print(DropNan(numerick))  "
      ],
      "outputs": [
        {
          "output_type": "stream",
          "name": "stdout",
          "text": [
            "            id  Jenis_Kelamin  ...  Lama_Berlangganan  Tertarik\n",
            "0            1            1.0  ...               97.0         0\n",
            "1            2            0.0  ...              158.0         0\n",
            "3            4            1.0  ...               63.0         0\n",
            "5            6            0.0  ...              171.0         0\n",
            "8            9            1.0  ...               31.0         0\n",
            "...        ...            ...  ...                ...       ...\n",
            "285826  285827            1.0  ...              217.0         0\n",
            "285827  285828            1.0  ...               50.0         0\n",
            "285828  285829            1.0  ...              226.0         0\n",
            "285829  285830            0.0  ...              270.0         0\n",
            "285830  285831            0.0  ...               44.0         0\n",
            "\n",
            "[221026 rows x 12 columns]\n"
          ]
        }
      ],
      "metadata": {
        "colab": {
          "base_uri": "https://localhost:8080/"
        },
        "id": "HB8Xf2ws52Cy",
        "outputId": "172fb274-58f5-4899-e1e3-46e26df8969c"
      }
    },
    {
      "cell_type": "code",
      "execution_count": null,
      "source": [
        "def MinMaxScalar(dataset):\n",
        "  return (dataset - dataset.min()) / (dataset.max() - dataset.min())\n",
        "\n",
        "MinMaxScalar(numerick)"
      ],
      "outputs": [
        {
          "output_type": "execute_result",
          "data": {
            "text/html": [
              "<div>\n",
              "<style scoped>\n",
              "    .dataframe tbody tr th:only-of-type {\n",
              "        vertical-align: middle;\n",
              "    }\n",
              "\n",
              "    .dataframe tbody tr th {\n",
              "        vertical-align: top;\n",
              "    }\n",
              "\n",
              "    .dataframe thead th {\n",
              "        text-align: right;\n",
              "    }\n",
              "</style>\n",
              "<table border=\"1\" class=\"dataframe\">\n",
              "  <thead>\n",
              "    <tr style=\"text-align: right;\">\n",
              "      <th></th>\n",
              "      <th>id</th>\n",
              "      <th>Jenis_Kelamin</th>\n",
              "      <th>Umur</th>\n",
              "      <th>SIM</th>\n",
              "      <th>Kode_Daerah</th>\n",
              "      <th>Sudah_Asuransi</th>\n",
              "      <th>Umur_Kendaraan</th>\n",
              "      <th>Kendaraan_Rusak</th>\n",
              "      <th>Premi</th>\n",
              "      <th>Kanal_Penjualan</th>\n",
              "      <th>Lama_Berlangganan</th>\n",
              "      <th>Tertarik</th>\n",
              "    </tr>\n",
              "  </thead>\n",
              "  <tbody>\n",
              "    <tr>\n",
              "      <th>0</th>\n",
              "      <td>0.000000</td>\n",
              "      <td>1.0</td>\n",
              "      <td>0.153846</td>\n",
              "      <td>1.0</td>\n",
              "      <td>0.634615</td>\n",
              "      <td>1.0</td>\n",
              "      <td>0.5</td>\n",
              "      <td>1.0</td>\n",
              "      <td>0.047251</td>\n",
              "      <td>0.932099</td>\n",
              "      <td>0.301038</td>\n",
              "      <td>0.0</td>\n",
              "    </tr>\n",
              "    <tr>\n",
              "      <th>1</th>\n",
              "      <td>0.000003</td>\n",
              "      <td>0.0</td>\n",
              "      <td>0.430769</td>\n",
              "      <td>1.0</td>\n",
              "      <td>0.750000</td>\n",
              "      <td>0.0</td>\n",
              "      <td>1.0</td>\n",
              "      <td>0.0</td>\n",
              "      <td>0.043104</td>\n",
              "      <td>0.172840</td>\n",
              "      <td>0.512111</td>\n",
              "      <td>0.0</td>\n",
              "    </tr>\n",
              "    <tr>\n",
              "      <th>2</th>\n",
              "      <td>0.000007</td>\n",
              "      <td>NaN</td>\n",
              "      <td>0.015385</td>\n",
              "      <td>1.0</td>\n",
              "      <td>0.884615</td>\n",
              "      <td>1.0</td>\n",
              "      <td>0.5</td>\n",
              "      <td>1.0</td>\n",
              "      <td>0.056002</td>\n",
              "      <td>0.981481</td>\n",
              "      <td>0.377163</td>\n",
              "      <td>0.0</td>\n",
              "    </tr>\n",
              "    <tr>\n",
              "      <th>3</th>\n",
              "      <td>0.000010</td>\n",
              "      <td>1.0</td>\n",
              "      <td>0.584615</td>\n",
              "      <td>1.0</td>\n",
              "      <td>0.923077</td>\n",
              "      <td>0.0</td>\n",
              "      <td>0.0</td>\n",
              "      <td>1.0</td>\n",
              "      <td>0.000000</td>\n",
              "      <td>0.759259</td>\n",
              "      <td>0.183391</td>\n",
              "      <td>0.0</td>\n",
              "    </tr>\n",
              "    <tr>\n",
              "      <th>4</th>\n",
              "      <td>0.000014</td>\n",
              "      <td>0.0</td>\n",
              "      <td>0.461538</td>\n",
              "      <td>1.0</td>\n",
              "      <td>0.673077</td>\n",
              "      <td>0.0</td>\n",
              "      <td>1.0</td>\n",
              "      <td>NaN</td>\n",
              "      <td>0.059953</td>\n",
              "      <td>0.537037</td>\n",
              "      <td>0.636678</td>\n",
              "      <td>0.0</td>\n",
              "    </tr>\n",
              "    <tr>\n",
              "      <th>...</th>\n",
              "      <td>...</td>\n",
              "      <td>...</td>\n",
              "      <td>...</td>\n",
              "      <td>...</td>\n",
              "      <td>...</td>\n",
              "      <td>...</td>\n",
              "      <td>...</td>\n",
              "      <td>...</td>\n",
              "      <td>...</td>\n",
              "      <td>...</td>\n",
              "      <td>...</td>\n",
              "      <td>...</td>\n",
              "    </tr>\n",
              "    <tr>\n",
              "      <th>285826</th>\n",
              "      <td>0.999986</td>\n",
              "      <td>1.0</td>\n",
              "      <td>0.046154</td>\n",
              "      <td>1.0</td>\n",
              "      <td>0.076923</td>\n",
              "      <td>1.0</td>\n",
              "      <td>0.5</td>\n",
              "      <td>1.0</td>\n",
              "      <td>0.043454</td>\n",
              "      <td>0.932099</td>\n",
              "      <td>0.716263</td>\n",
              "      <td>0.0</td>\n",
              "    </tr>\n",
              "    <tr>\n",
              "      <th>285827</th>\n",
              "      <td>0.999990</td>\n",
              "      <td>1.0</td>\n",
              "      <td>0.015385</td>\n",
              "      <td>1.0</td>\n",
              "      <td>0.884615</td>\n",
              "      <td>1.0</td>\n",
              "      <td>0.5</td>\n",
              "      <td>1.0</td>\n",
              "      <td>0.078239</td>\n",
              "      <td>0.932099</td>\n",
              "      <td>0.138408</td>\n",
              "      <td>0.0</td>\n",
              "    </tr>\n",
              "    <tr>\n",
              "      <th>285828</th>\n",
              "      <td>0.999993</td>\n",
              "      <td>1.0</td>\n",
              "      <td>0.046154</td>\n",
              "      <td>1.0</td>\n",
              "      <td>0.961538</td>\n",
              "      <td>1.0</td>\n",
              "      <td>0.5</td>\n",
              "      <td>1.0</td>\n",
              "      <td>0.087661</td>\n",
              "      <td>0.932099</td>\n",
              "      <td>0.747405</td>\n",
              "      <td>0.0</td>\n",
              "    </tr>\n",
              "    <tr>\n",
              "      <th>285829</th>\n",
              "      <td>0.999997</td>\n",
              "      <td>0.0</td>\n",
              "      <td>0.738462</td>\n",
              "      <td>1.0</td>\n",
              "      <td>0.134615</td>\n",
              "      <td>1.0</td>\n",
              "      <td>0.0</td>\n",
              "      <td>1.0</td>\n",
              "      <td>0.051853</td>\n",
              "      <td>0.759259</td>\n",
              "      <td>0.899654</td>\n",
              "      <td>0.0</td>\n",
              "    </tr>\n",
              "    <tr>\n",
              "      <th>285830</th>\n",
              "      <td>1.000000</td>\n",
              "      <td>0.0</td>\n",
              "      <td>0.384615</td>\n",
              "      <td>1.0</td>\n",
              "      <td>0.538462</td>\n",
              "      <td>0.0</td>\n",
              "      <td>0.0</td>\n",
              "      <td>0.0</td>\n",
              "      <td>0.062973</td>\n",
              "      <td>0.154321</td>\n",
              "      <td>0.117647</td>\n",
              "      <td>0.0</td>\n",
              "    </tr>\n",
              "  </tbody>\n",
              "</table>\n",
              "<p>285831 rows × 12 columns</p>\n",
              "</div>"
            ],
            "text/plain": [
              "              id  Jenis_Kelamin  ...  Lama_Berlangganan  Tertarik\n",
              "0       0.000000            1.0  ...           0.301038       0.0\n",
              "1       0.000003            0.0  ...           0.512111       0.0\n",
              "2       0.000007            NaN  ...           0.377163       0.0\n",
              "3       0.000010            1.0  ...           0.183391       0.0\n",
              "4       0.000014            0.0  ...           0.636678       0.0\n",
              "...          ...            ...  ...                ...       ...\n",
              "285826  0.999986            1.0  ...           0.716263       0.0\n",
              "285827  0.999990            1.0  ...           0.138408       0.0\n",
              "285828  0.999993            1.0  ...           0.747405       0.0\n",
              "285829  0.999997            0.0  ...           0.899654       0.0\n",
              "285830  1.000000            0.0  ...           0.117647       0.0\n",
              "\n",
              "[285831 rows x 12 columns]"
            ]
          },
          "metadata": {},
          "execution_count": 55
        }
      ],
      "metadata": {
        "colab": {
          "base_uri": "https://localhost:8080/"
        },
        "id": "YDqDnbAnfOAW",
        "outputId": "ebf7c6e5-e98a-41b4-98e4-0be0270545fa"
      }
    },
    {
      "cell_type": "markdown",
      "source": [
        "All of those above will be compiled into 1 function."
      ],
      "metadata": {
        "id": "J2XNIARt8qad"
      }
    },
    {
      "cell_type": "code",
      "execution_count": null,
      "source": [
        "def PreProcessing(dataset,dtype=int,minmax=True):\n",
        "  \n",
        "  try:\n",
        "    dataset = dataset.drop(columns=['id']) #drop the id column\n",
        "  except:\n",
        "    dataset = dataset\n",
        "  dataset = toNumeric(dataset)        #changing enum value to their index\n",
        "  dataset = FillNanSkew(dataset)      #Fill the NaN values\n",
        "  dataset = DropNan(dataset)          #Drop the row if the data was enum\n",
        "  dataset = dataset.astype(dtype)\n",
        "  if minmax:\n",
        "    dataset = MinMaxScalar(dataset)\n",
        "  dataset = dataset.drop_duplicates() #drop duplicate values\n",
        "  return dataset\n",
        "\n",
        "prep = PreProcessing(kendaraan)\n",
        "print(\"Data size before preprocessing: \",len(kendaraan))\n",
        "print(\"Empty Datas :\")\n",
        "print(kendaraan.isnull().sum())\n",
        "print(prep.info())\n",
        "prep.describe()"
      ],
      "outputs": [
        {
          "output_type": "stream",
          "name": "stdout",
          "text": [
            "Data size before preprocessing:  285831\n",
            "Empty Datas :\n",
            "id                       0\n",
            "Jenis_Kelamin        14440\n",
            "Umur                 14214\n",
            "SIM                  14404\n",
            "Kode_Daerah          14306\n",
            "Sudah_Asuransi       14229\n",
            "Umur_Kendaraan       14275\n",
            "Kendaraan_Rusak      14188\n",
            "Premi                14569\n",
            "Kanal_Penjualan      14299\n",
            "Lama_Berlangganan    13992\n",
            "Tertarik                 0\n",
            "dtype: int64\n",
            "<class 'pandas.core.frame.DataFrame'>\n",
            "Int64Index: 220837 entries, 0 to 285830\n",
            "Data columns (total 11 columns):\n",
            " #   Column             Non-Null Count   Dtype  \n",
            "---  ------             --------------   -----  \n",
            " 0   Jenis_Kelamin      220837 non-null  float64\n",
            " 1   Umur               220837 non-null  float64\n",
            " 2   SIM                220837 non-null  float64\n",
            " 3   Kode_Daerah        220837 non-null  float64\n",
            " 4   Sudah_Asuransi     220837 non-null  float64\n",
            " 5   Umur_Kendaraan     220837 non-null  float64\n",
            " 6   Kendaraan_Rusak    220837 non-null  float64\n",
            " 7   Premi              220837 non-null  float64\n",
            " 8   Kanal_Penjualan    220837 non-null  float64\n",
            " 9   Lama_Berlangganan  220837 non-null  float64\n",
            " 10  Tertarik           220837 non-null  float64\n",
            "dtypes: float64(11)\n",
            "memory usage: 20.2 MB\n",
            "None\n"
          ]
        },
        {
          "output_type": "execute_result",
          "data": {
            "text/html": [
              "<div>\n",
              "<style scoped>\n",
              "    .dataframe tbody tr th:only-of-type {\n",
              "        vertical-align: middle;\n",
              "    }\n",
              "\n",
              "    .dataframe tbody tr th {\n",
              "        vertical-align: top;\n",
              "    }\n",
              "\n",
              "    .dataframe thead th {\n",
              "        text-align: right;\n",
              "    }\n",
              "</style>\n",
              "<table border=\"1\" class=\"dataframe\">\n",
              "  <thead>\n",
              "    <tr style=\"text-align: right;\">\n",
              "      <th></th>\n",
              "      <th>Jenis_Kelamin</th>\n",
              "      <th>Umur</th>\n",
              "      <th>SIM</th>\n",
              "      <th>Kode_Daerah</th>\n",
              "      <th>Sudah_Asuransi</th>\n",
              "      <th>Umur_Kendaraan</th>\n",
              "      <th>Kendaraan_Rusak</th>\n",
              "      <th>Premi</th>\n",
              "      <th>Kanal_Penjualan</th>\n",
              "      <th>Lama_Berlangganan</th>\n",
              "      <th>Tertarik</th>\n",
              "    </tr>\n",
              "  </thead>\n",
              "  <tbody>\n",
              "    <tr>\n",
              "      <th>count</th>\n",
              "      <td>220837.000000</td>\n",
              "      <td>220837.000000</td>\n",
              "      <td>220837.000000</td>\n",
              "      <td>220837.000000</td>\n",
              "      <td>220837.000000</td>\n",
              "      <td>220837.000000</td>\n",
              "      <td>220837.000000</td>\n",
              "      <td>220837.000000</td>\n",
              "      <td>220837.000000</td>\n",
              "      <td>220837.000000</td>\n",
              "      <td>220837.000000</td>\n",
              "    </tr>\n",
              "    <tr>\n",
              "      <th>mean</th>\n",
              "      <td>0.459656</td>\n",
              "      <td>0.289144</td>\n",
              "      <td>0.997867</td>\n",
              "      <td>0.507458</td>\n",
              "      <td>0.459221</td>\n",
              "      <td>0.258569</td>\n",
              "      <td>0.495433</td>\n",
              "      <td>0.051935</td>\n",
              "      <td>0.685879</td>\n",
              "      <td>0.498835</td>\n",
              "      <td>0.121963</td>\n",
              "    </tr>\n",
              "    <tr>\n",
              "      <th>std</th>\n",
              "      <td>0.498371</td>\n",
              "      <td>0.232982</td>\n",
              "      <td>0.046133</td>\n",
              "      <td>0.248344</td>\n",
              "      <td>0.498335</td>\n",
              "      <td>0.288813</td>\n",
              "      <td>0.499980</td>\n",
              "      <td>0.031014</td>\n",
              "      <td>0.325898</td>\n",
              "      <td>0.282916</td>\n",
              "      <td>0.327244</td>\n",
              "    </tr>\n",
              "    <tr>\n",
              "      <th>min</th>\n",
              "      <td>0.000000</td>\n",
              "      <td>0.000000</td>\n",
              "      <td>0.000000</td>\n",
              "      <td>0.000000</td>\n",
              "      <td>0.000000</td>\n",
              "      <td>0.000000</td>\n",
              "      <td>0.000000</td>\n",
              "      <td>0.000000</td>\n",
              "      <td>0.000000</td>\n",
              "      <td>0.000000</td>\n",
              "      <td>0.000000</td>\n",
              "    </tr>\n",
              "    <tr>\n",
              "      <th>25%</th>\n",
              "      <td>0.000000</td>\n",
              "      <td>0.076923</td>\n",
              "      <td>1.000000</td>\n",
              "      <td>0.288462</td>\n",
              "      <td>0.000000</td>\n",
              "      <td>0.000000</td>\n",
              "      <td>0.000000</td>\n",
              "      <td>0.041484</td>\n",
              "      <td>0.333333</td>\n",
              "      <td>0.259516</td>\n",
              "      <td>0.000000</td>\n",
              "    </tr>\n",
              "    <tr>\n",
              "      <th>50%</th>\n",
              "      <td>0.000000</td>\n",
              "      <td>0.276923</td>\n",
              "      <td>1.000000</td>\n",
              "      <td>0.538462</td>\n",
              "      <td>0.000000</td>\n",
              "      <td>0.000000</td>\n",
              "      <td>0.000000</td>\n",
              "      <td>0.052666</td>\n",
              "      <td>0.759259</td>\n",
              "      <td>0.498270</td>\n",
              "      <td>0.000000</td>\n",
              "    </tr>\n",
              "    <tr>\n",
              "      <th>75%</th>\n",
              "      <td>1.000000</td>\n",
              "      <td>0.446154</td>\n",
              "      <td>1.000000</td>\n",
              "      <td>0.673077</td>\n",
              "      <td>1.000000</td>\n",
              "      <td>0.500000</td>\n",
              "      <td>1.000000</td>\n",
              "      <td>0.067387</td>\n",
              "      <td>0.932099</td>\n",
              "      <td>0.737024</td>\n",
              "      <td>0.000000</td>\n",
              "    </tr>\n",
              "    <tr>\n",
              "      <th>max</th>\n",
              "      <td>1.000000</td>\n",
              "      <td>1.000000</td>\n",
              "      <td>1.000000</td>\n",
              "      <td>1.000000</td>\n",
              "      <td>1.000000</td>\n",
              "      <td>1.000000</td>\n",
              "      <td>1.000000</td>\n",
              "      <td>1.000000</td>\n",
              "      <td>1.000000</td>\n",
              "      <td>1.000000</td>\n",
              "      <td>1.000000</td>\n",
              "    </tr>\n",
              "  </tbody>\n",
              "</table>\n",
              "</div>"
            ],
            "text/plain": [
              "       Jenis_Kelamin           Umur  ...  Lama_Berlangganan       Tertarik\n",
              "count  220837.000000  220837.000000  ...      220837.000000  220837.000000\n",
              "mean        0.459656       0.289144  ...           0.498835       0.121963\n",
              "std         0.498371       0.232982  ...           0.282916       0.327244\n",
              "min         0.000000       0.000000  ...           0.000000       0.000000\n",
              "25%         0.000000       0.076923  ...           0.259516       0.000000\n",
              "50%         0.000000       0.276923  ...           0.498270       0.000000\n",
              "75%         1.000000       0.446154  ...           0.737024       0.000000\n",
              "max         1.000000       1.000000  ...           1.000000       1.000000\n",
              "\n",
              "[8 rows x 11 columns]"
            ]
          },
          "metadata": {},
          "execution_count": 56
        }
      ],
      "metadata": {
        "colab": {
          "base_uri": "https://localhost:8080/"
        },
        "id": "gJVsl8Kn-F4q",
        "outputId": "b2712a89-5cd1-4c2b-f718-1eb068aa13d1"
      }
    },
    {
      "cell_type": "markdown",
      "source": [
        "Split data between train and test data"
      ],
      "metadata": {
        "id": "nyP7sTQORx4O"
      }
    },
    {
      "cell_type": "code",
      "execution_count": null,
      "source": [
        "def DataSplit(dataset,frac):\n",
        "  train=dataset.sample(frac=0.8,random_state=rand.randint(0,dataset.shape[0])) #random state is a seed value\n",
        "  test=dataset.drop(train.index)\n",
        "  return train,test\n",
        "\n",
        "datatrain,datatest = DataSplit(prep,0.8)"
      ],
      "outputs": [],
      "metadata": {
        "id": "5Z386EMPYV5S"
      }
    },
    {
      "cell_type": "code",
      "execution_count": null,
      "source": [
        "datatrain"
      ],
      "outputs": [
        {
          "output_type": "execute_result",
          "data": {
            "text/html": [
              "<div>\n",
              "<style scoped>\n",
              "    .dataframe tbody tr th:only-of-type {\n",
              "        vertical-align: middle;\n",
              "    }\n",
              "\n",
              "    .dataframe tbody tr th {\n",
              "        vertical-align: top;\n",
              "    }\n",
              "\n",
              "    .dataframe thead th {\n",
              "        text-align: right;\n",
              "    }\n",
              "</style>\n",
              "<table border=\"1\" class=\"dataframe\">\n",
              "  <thead>\n",
              "    <tr style=\"text-align: right;\">\n",
              "      <th></th>\n",
              "      <th>Jenis_Kelamin</th>\n",
              "      <th>Umur</th>\n",
              "      <th>SIM</th>\n",
              "      <th>Kode_Daerah</th>\n",
              "      <th>Sudah_Asuransi</th>\n",
              "      <th>Umur_Kendaraan</th>\n",
              "      <th>Kendaraan_Rusak</th>\n",
              "      <th>Premi</th>\n",
              "      <th>Kanal_Penjualan</th>\n",
              "      <th>Lama_Berlangganan</th>\n",
              "      <th>Tertarik</th>\n",
              "    </tr>\n",
              "  </thead>\n",
              "  <tbody>\n",
              "    <tr>\n",
              "      <th>224784</th>\n",
              "      <td>0.0</td>\n",
              "      <td>0.030769</td>\n",
              "      <td>1.0</td>\n",
              "      <td>0.346154</td>\n",
              "      <td>0.0</td>\n",
              "      <td>0.5</td>\n",
              "      <td>0.0</td>\n",
              "      <td>0.053980</td>\n",
              "      <td>0.932099</td>\n",
              "      <td>0.190311</td>\n",
              "      <td>1.0</td>\n",
              "    </tr>\n",
              "    <tr>\n",
              "      <th>229693</th>\n",
              "      <td>1.0</td>\n",
              "      <td>0.046154</td>\n",
              "      <td>1.0</td>\n",
              "      <td>0.538462</td>\n",
              "      <td>1.0</td>\n",
              "      <td>0.5</td>\n",
              "      <td>1.0</td>\n",
              "      <td>0.080460</td>\n",
              "      <td>0.932099</td>\n",
              "      <td>0.878893</td>\n",
              "      <td>0.0</td>\n",
              "    </tr>\n",
              "    <tr>\n",
              "      <th>163515</th>\n",
              "      <td>0.0</td>\n",
              "      <td>0.861538</td>\n",
              "      <td>1.0</td>\n",
              "      <td>0.538462</td>\n",
              "      <td>1.0</td>\n",
              "      <td>0.0</td>\n",
              "      <td>1.0</td>\n",
              "      <td>0.106358</td>\n",
              "      <td>0.759259</td>\n",
              "      <td>0.072664</td>\n",
              "      <td>0.0</td>\n",
              "    </tr>\n",
              "    <tr>\n",
              "      <th>18714</th>\n",
              "      <td>0.0</td>\n",
              "      <td>0.430769</td>\n",
              "      <td>1.0</td>\n",
              "      <td>0.423077</td>\n",
              "      <td>0.0</td>\n",
              "      <td>1.0</td>\n",
              "      <td>0.0</td>\n",
              "      <td>0.053941</td>\n",
              "      <td>0.746914</td>\n",
              "      <td>0.311419</td>\n",
              "      <td>1.0</td>\n",
              "    </tr>\n",
              "    <tr>\n",
              "      <th>270240</th>\n",
              "      <td>0.0</td>\n",
              "      <td>0.846154</td>\n",
              "      <td>1.0</td>\n",
              "      <td>0.134615</td>\n",
              "      <td>0.0</td>\n",
              "      <td>1.0</td>\n",
              "      <td>0.0</td>\n",
              "      <td>0.105781</td>\n",
              "      <td>0.154321</td>\n",
              "      <td>0.134948</td>\n",
              "      <td>0.0</td>\n",
              "    </tr>\n",
              "    <tr>\n",
              "      <th>...</th>\n",
              "      <td>...</td>\n",
              "      <td>...</td>\n",
              "      <td>...</td>\n",
              "      <td>...</td>\n",
              "      <td>...</td>\n",
              "      <td>...</td>\n",
              "      <td>...</td>\n",
              "      <td>...</td>\n",
              "      <td>...</td>\n",
              "      <td>...</td>\n",
              "      <td>...</td>\n",
              "    </tr>\n",
              "    <tr>\n",
              "      <th>81448</th>\n",
              "      <td>1.0</td>\n",
              "      <td>0.369231</td>\n",
              "      <td>1.0</td>\n",
              "      <td>0.500000</td>\n",
              "      <td>0.0</td>\n",
              "      <td>0.0</td>\n",
              "      <td>0.0</td>\n",
              "      <td>0.057873</td>\n",
              "      <td>0.154321</td>\n",
              "      <td>0.501730</td>\n",
              "      <td>0.0</td>\n",
              "    </tr>\n",
              "    <tr>\n",
              "      <th>187409</th>\n",
              "      <td>0.0</td>\n",
              "      <td>0.046154</td>\n",
              "      <td>1.0</td>\n",
              "      <td>0.730769</td>\n",
              "      <td>0.0</td>\n",
              "      <td>0.5</td>\n",
              "      <td>0.0</td>\n",
              "      <td>0.000000</td>\n",
              "      <td>0.956790</td>\n",
              "      <td>0.484429</td>\n",
              "      <td>0.0</td>\n",
              "    </tr>\n",
              "    <tr>\n",
              "      <th>102999</th>\n",
              "      <td>1.0</td>\n",
              "      <td>0.261538</td>\n",
              "      <td>1.0</td>\n",
              "      <td>0.903846</td>\n",
              "      <td>0.0</td>\n",
              "      <td>0.0</td>\n",
              "      <td>0.0</td>\n",
              "      <td>0.042593</td>\n",
              "      <td>0.759259</td>\n",
              "      <td>0.148789</td>\n",
              "      <td>0.0</td>\n",
              "    </tr>\n",
              "    <tr>\n",
              "      <th>285710</th>\n",
              "      <td>0.0</td>\n",
              "      <td>0.446154</td>\n",
              "      <td>1.0</td>\n",
              "      <td>0.673077</td>\n",
              "      <td>1.0</td>\n",
              "      <td>0.0</td>\n",
              "      <td>1.0</td>\n",
              "      <td>0.000000</td>\n",
              "      <td>0.759259</td>\n",
              "      <td>0.020761</td>\n",
              "      <td>0.0</td>\n",
              "    </tr>\n",
              "    <tr>\n",
              "      <th>112098</th>\n",
              "      <td>0.0</td>\n",
              "      <td>0.276923</td>\n",
              "      <td>1.0</td>\n",
              "      <td>0.153846</td>\n",
              "      <td>1.0</td>\n",
              "      <td>0.5</td>\n",
              "      <td>1.0</td>\n",
              "      <td>0.065406</td>\n",
              "      <td>0.932099</td>\n",
              "      <td>0.349481</td>\n",
              "      <td>0.0</td>\n",
              "    </tr>\n",
              "  </tbody>\n",
              "</table>\n",
              "<p>176670 rows × 11 columns</p>\n",
              "</div>"
            ],
            "text/plain": [
              "        Jenis_Kelamin      Umur  ...  Lama_Berlangganan  Tertarik\n",
              "224784            0.0  0.030769  ...           0.190311       1.0\n",
              "229693            1.0  0.046154  ...           0.878893       0.0\n",
              "163515            0.0  0.861538  ...           0.072664       0.0\n",
              "18714             0.0  0.430769  ...           0.311419       1.0\n",
              "270240            0.0  0.846154  ...           0.134948       0.0\n",
              "...               ...       ...  ...                ...       ...\n",
              "81448             1.0  0.369231  ...           0.501730       0.0\n",
              "187409            0.0  0.046154  ...           0.484429       0.0\n",
              "102999            1.0  0.261538  ...           0.148789       0.0\n",
              "285710            0.0  0.446154  ...           0.020761       0.0\n",
              "112098            0.0  0.276923  ...           0.349481       0.0\n",
              "\n",
              "[176670 rows x 11 columns]"
            ]
          },
          "metadata": {},
          "execution_count": 58
        }
      ],
      "metadata": {
        "colab": {
          "base_uri": "https://localhost:8080/"
        },
        "id": "i3vYjlFiZX2g",
        "outputId": "46b9ac85-c496-4aca-bb39-9c4850d888d5"
      }
    },
    {
      "cell_type": "code",
      "execution_count": null,
      "source": [
        "datatest"
      ],
      "outputs": [
        {
          "output_type": "execute_result",
          "data": {
            "text/html": [
              "<div>\n",
              "<style scoped>\n",
              "    .dataframe tbody tr th:only-of-type {\n",
              "        vertical-align: middle;\n",
              "    }\n",
              "\n",
              "    .dataframe tbody tr th {\n",
              "        vertical-align: top;\n",
              "    }\n",
              "\n",
              "    .dataframe thead th {\n",
              "        text-align: right;\n",
              "    }\n",
              "</style>\n",
              "<table border=\"1\" class=\"dataframe\">\n",
              "  <thead>\n",
              "    <tr style=\"text-align: right;\">\n",
              "      <th></th>\n",
              "      <th>Jenis_Kelamin</th>\n",
              "      <th>Umur</th>\n",
              "      <th>SIM</th>\n",
              "      <th>Kode_Daerah</th>\n",
              "      <th>Sudah_Asuransi</th>\n",
              "      <th>Umur_Kendaraan</th>\n",
              "      <th>Kendaraan_Rusak</th>\n",
              "      <th>Premi</th>\n",
              "      <th>Kanal_Penjualan</th>\n",
              "      <th>Lama_Berlangganan</th>\n",
              "      <th>Tertarik</th>\n",
              "    </tr>\n",
              "  </thead>\n",
              "  <tbody>\n",
              "    <tr>\n",
              "      <th>1</th>\n",
              "      <td>0.0</td>\n",
              "      <td>0.430769</td>\n",
              "      <td>1.0</td>\n",
              "      <td>0.750000</td>\n",
              "      <td>0.0</td>\n",
              "      <td>1.0</td>\n",
              "      <td>0.0</td>\n",
              "      <td>0.043104</td>\n",
              "      <td>0.172840</td>\n",
              "      <td>0.512111</td>\n",
              "      <td>0.0</td>\n",
              "    </tr>\n",
              "    <tr>\n",
              "      <th>11</th>\n",
              "      <td>1.0</td>\n",
              "      <td>0.276923</td>\n",
              "      <td>1.0</td>\n",
              "      <td>0.538462</td>\n",
              "      <td>1.0</td>\n",
              "      <td>0.5</td>\n",
              "      <td>1.0</td>\n",
              "      <td>0.070924</td>\n",
              "      <td>0.932099</td>\n",
              "      <td>0.692042</td>\n",
              "      <td>0.0</td>\n",
              "    </tr>\n",
              "    <tr>\n",
              "      <th>14</th>\n",
              "      <td>0.0</td>\n",
              "      <td>0.707692</td>\n",
              "      <td>1.0</td>\n",
              "      <td>0.461538</td>\n",
              "      <td>1.0</td>\n",
              "      <td>0.0</td>\n",
              "      <td>1.0</td>\n",
              "      <td>0.066946</td>\n",
              "      <td>0.888889</td>\n",
              "      <td>0.937716</td>\n",
              "      <td>0.0</td>\n",
              "    </tr>\n",
              "    <tr>\n",
              "      <th>15</th>\n",
              "      <td>0.0</td>\n",
              "      <td>0.169231</td>\n",
              "      <td>1.0</td>\n",
              "      <td>0.153846</td>\n",
              "      <td>0.0</td>\n",
              "      <td>0.5</td>\n",
              "      <td>0.0</td>\n",
              "      <td>0.000000</td>\n",
              "      <td>0.932099</td>\n",
              "      <td>0.422145</td>\n",
              "      <td>0.0</td>\n",
              "    </tr>\n",
              "    <tr>\n",
              "      <th>17</th>\n",
              "      <td>1.0</td>\n",
              "      <td>0.030769</td>\n",
              "      <td>1.0</td>\n",
              "      <td>0.288462</td>\n",
              "      <td>0.0</td>\n",
              "      <td>0.5</td>\n",
              "      <td>0.0</td>\n",
              "      <td>0.066338</td>\n",
              "      <td>0.932099</td>\n",
              "      <td>0.743945</td>\n",
              "      <td>0.0</td>\n",
              "    </tr>\n",
              "    <tr>\n",
              "      <th>...</th>\n",
              "      <td>...</td>\n",
              "      <td>...</td>\n",
              "      <td>...</td>\n",
              "      <td>...</td>\n",
              "      <td>...</td>\n",
              "      <td>...</td>\n",
              "      <td>...</td>\n",
              "      <td>...</td>\n",
              "      <td>...</td>\n",
              "      <td>...</td>\n",
              "      <td>...</td>\n",
              "    </tr>\n",
              "    <tr>\n",
              "      <th>285789</th>\n",
              "      <td>0.0</td>\n",
              "      <td>0.030769</td>\n",
              "      <td>1.0</td>\n",
              "      <td>0.288462</td>\n",
              "      <td>1.0</td>\n",
              "      <td>0.5</td>\n",
              "      <td>0.0</td>\n",
              "      <td>0.054428</td>\n",
              "      <td>0.981481</td>\n",
              "      <td>0.103806</td>\n",
              "      <td>0.0</td>\n",
              "    </tr>\n",
              "    <tr>\n",
              "      <th>285798</th>\n",
              "      <td>1.0</td>\n",
              "      <td>0.030769</td>\n",
              "      <td>1.0</td>\n",
              "      <td>0.538462</td>\n",
              "      <td>0.0</td>\n",
              "      <td>0.5</td>\n",
              "      <td>0.0</td>\n",
              "      <td>0.059855</td>\n",
              "      <td>0.685185</td>\n",
              "      <td>0.519031</td>\n",
              "      <td>0.0</td>\n",
              "    </tr>\n",
              "    <tr>\n",
              "      <th>285799</th>\n",
              "      <td>0.0</td>\n",
              "      <td>0.461538</td>\n",
              "      <td>1.0</td>\n",
              "      <td>0.538462</td>\n",
              "      <td>0.0</td>\n",
              "      <td>0.0</td>\n",
              "      <td>0.0</td>\n",
              "      <td>0.073854</td>\n",
              "      <td>0.759259</td>\n",
              "      <td>0.411765</td>\n",
              "      <td>0.0</td>\n",
              "    </tr>\n",
              "    <tr>\n",
              "      <th>285813</th>\n",
              "      <td>0.0</td>\n",
              "      <td>0.046154</td>\n",
              "      <td>1.0</td>\n",
              "      <td>0.288462</td>\n",
              "      <td>0.0</td>\n",
              "      <td>0.5</td>\n",
              "      <td>0.0</td>\n",
              "      <td>0.049881</td>\n",
              "      <td>0.981481</td>\n",
              "      <td>0.159170</td>\n",
              "      <td>0.0</td>\n",
              "    </tr>\n",
              "    <tr>\n",
              "      <th>285815</th>\n",
              "      <td>1.0</td>\n",
              "      <td>0.861538</td>\n",
              "      <td>1.0</td>\n",
              "      <td>0.115385</td>\n",
              "      <td>0.0</td>\n",
              "      <td>0.0</td>\n",
              "      <td>0.0</td>\n",
              "      <td>0.053764</td>\n",
              "      <td>0.154321</td>\n",
              "      <td>0.000000</td>\n",
              "      <td>0.0</td>\n",
              "    </tr>\n",
              "  </tbody>\n",
              "</table>\n",
              "<p>44167 rows × 11 columns</p>\n",
              "</div>"
            ],
            "text/plain": [
              "        Jenis_Kelamin      Umur  ...  Lama_Berlangganan  Tertarik\n",
              "1                 0.0  0.430769  ...           0.512111       0.0\n",
              "11                1.0  0.276923  ...           0.692042       0.0\n",
              "14                0.0  0.707692  ...           0.937716       0.0\n",
              "15                0.0  0.169231  ...           0.422145       0.0\n",
              "17                1.0  0.030769  ...           0.743945       0.0\n",
              "...               ...       ...  ...                ...       ...\n",
              "285789            0.0  0.030769  ...           0.103806       0.0\n",
              "285798            1.0  0.030769  ...           0.519031       0.0\n",
              "285799            0.0  0.461538  ...           0.411765       0.0\n",
              "285813            0.0  0.046154  ...           0.159170       0.0\n",
              "285815            1.0  0.861538  ...           0.000000       0.0\n",
              "\n",
              "[44167 rows x 11 columns]"
            ]
          },
          "metadata": {},
          "execution_count": 59
        }
      ],
      "metadata": {
        "colab": {
          "base_uri": "https://localhost:8080/"
        },
        "id": "QPO74WKrZZ5T",
        "outputId": "07f02453-e7c5-4efb-e1f5-dd6e8fd9648e"
      }
    },
    {
      "cell_type": "markdown",
      "source": [
        "# PENTING! Pisahin kolom tertarik di data contohnya kyk gini"
      ],
      "metadata": {
        "id": "8kOk1Iz6dNP-"
      }
    },
    {
      "cell_type": "markdown",
      "source": [
        "Split dataset(X) and target(Y) and convert to Array"
      ],
      "metadata": {
        "id": "OcpYYF_UdiOY"
      }
    },
    {
      "cell_type": "code",
      "execution_count": null,
      "source": [
        "def SplitXY(dataset,label):\n",
        "  target = dataset[[label]]\n",
        "  return dataset.drop(columns=[label]), target\n",
        "\n",
        "dt_x,dt_y = SplitXY(datatrain,\"Tertarik\")"
      ],
      "outputs": [],
      "metadata": {
        "id": "A2DIZImFd3T7"
      }
    },
    {
      "cell_type": "code",
      "execution_count": null,
      "source": [
        "dt_x"
      ],
      "outputs": [
        {
          "output_type": "execute_result",
          "data": {
            "text/html": [
              "<div>\n",
              "<style scoped>\n",
              "    .dataframe tbody tr th:only-of-type {\n",
              "        vertical-align: middle;\n",
              "    }\n",
              "\n",
              "    .dataframe tbody tr th {\n",
              "        vertical-align: top;\n",
              "    }\n",
              "\n",
              "    .dataframe thead th {\n",
              "        text-align: right;\n",
              "    }\n",
              "</style>\n",
              "<table border=\"1\" class=\"dataframe\">\n",
              "  <thead>\n",
              "    <tr style=\"text-align: right;\">\n",
              "      <th></th>\n",
              "      <th>Jenis_Kelamin</th>\n",
              "      <th>Umur</th>\n",
              "      <th>SIM</th>\n",
              "      <th>Kode_Daerah</th>\n",
              "      <th>Sudah_Asuransi</th>\n",
              "      <th>Umur_Kendaraan</th>\n",
              "      <th>Kendaraan_Rusak</th>\n",
              "      <th>Premi</th>\n",
              "      <th>Kanal_Penjualan</th>\n",
              "      <th>Lama_Berlangganan</th>\n",
              "    </tr>\n",
              "  </thead>\n",
              "  <tbody>\n",
              "    <tr>\n",
              "      <th>224784</th>\n",
              "      <td>0.0</td>\n",
              "      <td>0.030769</td>\n",
              "      <td>1.0</td>\n",
              "      <td>0.346154</td>\n",
              "      <td>0.0</td>\n",
              "      <td>0.5</td>\n",
              "      <td>0.0</td>\n",
              "      <td>0.053980</td>\n",
              "      <td>0.932099</td>\n",
              "      <td>0.190311</td>\n",
              "    </tr>\n",
              "    <tr>\n",
              "      <th>229693</th>\n",
              "      <td>1.0</td>\n",
              "      <td>0.046154</td>\n",
              "      <td>1.0</td>\n",
              "      <td>0.538462</td>\n",
              "      <td>1.0</td>\n",
              "      <td>0.5</td>\n",
              "      <td>1.0</td>\n",
              "      <td>0.080460</td>\n",
              "      <td>0.932099</td>\n",
              "      <td>0.878893</td>\n",
              "    </tr>\n",
              "    <tr>\n",
              "      <th>163515</th>\n",
              "      <td>0.0</td>\n",
              "      <td>0.861538</td>\n",
              "      <td>1.0</td>\n",
              "      <td>0.538462</td>\n",
              "      <td>1.0</td>\n",
              "      <td>0.0</td>\n",
              "      <td>1.0</td>\n",
              "      <td>0.106358</td>\n",
              "      <td>0.759259</td>\n",
              "      <td>0.072664</td>\n",
              "    </tr>\n",
              "    <tr>\n",
              "      <th>18714</th>\n",
              "      <td>0.0</td>\n",
              "      <td>0.430769</td>\n",
              "      <td>1.0</td>\n",
              "      <td>0.423077</td>\n",
              "      <td>0.0</td>\n",
              "      <td>1.0</td>\n",
              "      <td>0.0</td>\n",
              "      <td>0.053941</td>\n",
              "      <td>0.746914</td>\n",
              "      <td>0.311419</td>\n",
              "    </tr>\n",
              "    <tr>\n",
              "      <th>270240</th>\n",
              "      <td>0.0</td>\n",
              "      <td>0.846154</td>\n",
              "      <td>1.0</td>\n",
              "      <td>0.134615</td>\n",
              "      <td>0.0</td>\n",
              "      <td>1.0</td>\n",
              "      <td>0.0</td>\n",
              "      <td>0.105781</td>\n",
              "      <td>0.154321</td>\n",
              "      <td>0.134948</td>\n",
              "    </tr>\n",
              "    <tr>\n",
              "      <th>...</th>\n",
              "      <td>...</td>\n",
              "      <td>...</td>\n",
              "      <td>...</td>\n",
              "      <td>...</td>\n",
              "      <td>...</td>\n",
              "      <td>...</td>\n",
              "      <td>...</td>\n",
              "      <td>...</td>\n",
              "      <td>...</td>\n",
              "      <td>...</td>\n",
              "    </tr>\n",
              "    <tr>\n",
              "      <th>81448</th>\n",
              "      <td>1.0</td>\n",
              "      <td>0.369231</td>\n",
              "      <td>1.0</td>\n",
              "      <td>0.500000</td>\n",
              "      <td>0.0</td>\n",
              "      <td>0.0</td>\n",
              "      <td>0.0</td>\n",
              "      <td>0.057873</td>\n",
              "      <td>0.154321</td>\n",
              "      <td>0.501730</td>\n",
              "    </tr>\n",
              "    <tr>\n",
              "      <th>187409</th>\n",
              "      <td>0.0</td>\n",
              "      <td>0.046154</td>\n",
              "      <td>1.0</td>\n",
              "      <td>0.730769</td>\n",
              "      <td>0.0</td>\n",
              "      <td>0.5</td>\n",
              "      <td>0.0</td>\n",
              "      <td>0.000000</td>\n",
              "      <td>0.956790</td>\n",
              "      <td>0.484429</td>\n",
              "    </tr>\n",
              "    <tr>\n",
              "      <th>102999</th>\n",
              "      <td>1.0</td>\n",
              "      <td>0.261538</td>\n",
              "      <td>1.0</td>\n",
              "      <td>0.903846</td>\n",
              "      <td>0.0</td>\n",
              "      <td>0.0</td>\n",
              "      <td>0.0</td>\n",
              "      <td>0.042593</td>\n",
              "      <td>0.759259</td>\n",
              "      <td>0.148789</td>\n",
              "    </tr>\n",
              "    <tr>\n",
              "      <th>285710</th>\n",
              "      <td>0.0</td>\n",
              "      <td>0.446154</td>\n",
              "      <td>1.0</td>\n",
              "      <td>0.673077</td>\n",
              "      <td>1.0</td>\n",
              "      <td>0.0</td>\n",
              "      <td>1.0</td>\n",
              "      <td>0.000000</td>\n",
              "      <td>0.759259</td>\n",
              "      <td>0.020761</td>\n",
              "    </tr>\n",
              "    <tr>\n",
              "      <th>112098</th>\n",
              "      <td>0.0</td>\n",
              "      <td>0.276923</td>\n",
              "      <td>1.0</td>\n",
              "      <td>0.153846</td>\n",
              "      <td>1.0</td>\n",
              "      <td>0.5</td>\n",
              "      <td>1.0</td>\n",
              "      <td>0.065406</td>\n",
              "      <td>0.932099</td>\n",
              "      <td>0.349481</td>\n",
              "    </tr>\n",
              "  </tbody>\n",
              "</table>\n",
              "<p>176670 rows × 10 columns</p>\n",
              "</div>"
            ],
            "text/plain": [
              "        Jenis_Kelamin      Umur  ...  Kanal_Penjualan  Lama_Berlangganan\n",
              "224784            0.0  0.030769  ...         0.932099           0.190311\n",
              "229693            1.0  0.046154  ...         0.932099           0.878893\n",
              "163515            0.0  0.861538  ...         0.759259           0.072664\n",
              "18714             0.0  0.430769  ...         0.746914           0.311419\n",
              "270240            0.0  0.846154  ...         0.154321           0.134948\n",
              "...               ...       ...  ...              ...                ...\n",
              "81448             1.0  0.369231  ...         0.154321           0.501730\n",
              "187409            0.0  0.046154  ...         0.956790           0.484429\n",
              "102999            1.0  0.261538  ...         0.759259           0.148789\n",
              "285710            0.0  0.446154  ...         0.759259           0.020761\n",
              "112098            0.0  0.276923  ...         0.932099           0.349481\n",
              "\n",
              "[176670 rows x 10 columns]"
            ]
          },
          "metadata": {},
          "execution_count": 82
        }
      ],
      "metadata": {
        "colab": {
          "base_uri": "https://localhost:8080/",
          "height": 439
        },
        "id": "c2miCyxAtKJx",
        "outputId": "6a373c41-e9cc-42eb-fc28-176b3ddfdb49"
      }
    },
    {
      "cell_type": "code",
      "execution_count": null,
      "source": [
        "dt_y"
      ],
      "outputs": [
        {
          "output_type": "execute_result",
          "data": {
            "text/html": [
              "<div>\n",
              "<style scoped>\n",
              "    .dataframe tbody tr th:only-of-type {\n",
              "        vertical-align: middle;\n",
              "    }\n",
              "\n",
              "    .dataframe tbody tr th {\n",
              "        vertical-align: top;\n",
              "    }\n",
              "\n",
              "    .dataframe thead th {\n",
              "        text-align: right;\n",
              "    }\n",
              "</style>\n",
              "<table border=\"1\" class=\"dataframe\">\n",
              "  <thead>\n",
              "    <tr style=\"text-align: right;\">\n",
              "      <th></th>\n",
              "      <th>Tertarik</th>\n",
              "    </tr>\n",
              "  </thead>\n",
              "  <tbody>\n",
              "    <tr>\n",
              "      <th>224784</th>\n",
              "      <td>1.0</td>\n",
              "    </tr>\n",
              "    <tr>\n",
              "      <th>229693</th>\n",
              "      <td>0.0</td>\n",
              "    </tr>\n",
              "    <tr>\n",
              "      <th>163515</th>\n",
              "      <td>0.0</td>\n",
              "    </tr>\n",
              "    <tr>\n",
              "      <th>18714</th>\n",
              "      <td>1.0</td>\n",
              "    </tr>\n",
              "    <tr>\n",
              "      <th>270240</th>\n",
              "      <td>0.0</td>\n",
              "    </tr>\n",
              "    <tr>\n",
              "      <th>...</th>\n",
              "      <td>...</td>\n",
              "    </tr>\n",
              "    <tr>\n",
              "      <th>81448</th>\n",
              "      <td>0.0</td>\n",
              "    </tr>\n",
              "    <tr>\n",
              "      <th>187409</th>\n",
              "      <td>0.0</td>\n",
              "    </tr>\n",
              "    <tr>\n",
              "      <th>102999</th>\n",
              "      <td>0.0</td>\n",
              "    </tr>\n",
              "    <tr>\n",
              "      <th>285710</th>\n",
              "      <td>0.0</td>\n",
              "    </tr>\n",
              "    <tr>\n",
              "      <th>112098</th>\n",
              "      <td>0.0</td>\n",
              "    </tr>\n",
              "  </tbody>\n",
              "</table>\n",
              "<p>176670 rows × 1 columns</p>\n",
              "</div>"
            ],
            "text/plain": [
              "        Tertarik\n",
              "224784       1.0\n",
              "229693       0.0\n",
              "163515       0.0\n",
              "18714        1.0\n",
              "270240       0.0\n",
              "...          ...\n",
              "81448        0.0\n",
              "187409       0.0\n",
              "102999       0.0\n",
              "285710       0.0\n",
              "112098       0.0\n",
              "\n",
              "[176670 rows x 1 columns]"
            ]
          },
          "metadata": {},
          "execution_count": 83
        }
      ],
      "metadata": {
        "colab": {
          "base_uri": "https://localhost:8080/",
          "height": 419
        },
        "id": "ylLglIjEtK0-",
        "outputId": "9e602f71-96d8-4890-92c6-357695c013f3"
      }
    },
    {
      "cell_type": "code",
      "execution_count": null,
      "source": [
        "def DatasetTargetToArray(dataset,label_target=None):\n",
        "  if label_target != None:\n",
        "    arr_x, arr_y = SplitXY(dataset,label_target)\n",
        "    arr_y = arr_y.transpose()\n",
        "    return arr_x.to_numpy(), arr_y.to_numpy()[0]\n",
        "  else: return dataset.to_numpy()\n"
      ],
      "outputs": [],
      "metadata": {
        "id": "-MPNMv8Fp78m"
      }
    },
    {
      "cell_type": "code",
      "execution_count": null,
      "source": [
        "train, train_target = DatasetTargetToArray(datatrain,'Tertarik')\n",
        "test, test_target = DatasetTargetToArray(datatest,'Tertarik')"
      ],
      "outputs": [],
      "metadata": {
        "id": "KfcIfyzooqPK"
      }
    },
    {
      "cell_type": "code",
      "execution_count": null,
      "source": [
        "train"
      ],
      "outputs": [
        {
          "output_type": "execute_result",
          "data": {
            "text/plain": [
              "array([[0.        , 0.03076923, 1.        , ..., 0.05397974, 0.93209877,\n",
              "        0.19031142],\n",
              "       [1.        , 0.04615385, 1.        , ..., 0.08045988, 0.93209877,\n",
              "        0.87889273],\n",
              "       [0.        , 0.86153846, 1.        , ..., 0.10635773, 0.75925926,\n",
              "        0.07266436],\n",
              "       ...,\n",
              "       [1.        , 0.26153846, 1.        , ..., 0.04259258, 0.75925926,\n",
              "        0.14878893],\n",
              "       [0.        , 0.44615385, 1.        , ..., 0.        , 0.75925926,\n",
              "        0.02076125],\n",
              "       [0.        , 0.27692308, 1.        , ..., 0.06540597, 0.93209877,\n",
              "        0.34948097]])"
            ]
          },
          "metadata": {},
          "execution_count": 79
        }
      ],
      "metadata": {
        "colab": {
          "base_uri": "https://localhost:8080/"
        },
        "id": "Sue8_ujzpxBl",
        "outputId": "3fab5da6-fff9-4913-c3c0-fbc6bc8e7b57"
      }
    },
    {
      "cell_type": "code",
      "execution_count": null,
      "source": [
        "train_target"
      ],
      "outputs": [
        {
          "output_type": "execute_result",
          "data": {
            "text/plain": [
              "array([1., 0., 0., ..., 0., 0., 0.])"
            ]
          },
          "metadata": {},
          "execution_count": 80
        }
      ],
      "metadata": {
        "colab": {
          "base_uri": "https://localhost:8080/"
        },
        "id": "1ok9N0ITrEhc",
        "outputId": "6005aa47-f828-436c-9eec-6bdf195ff661"
      }
    },
    {
      "cell_type": "code",
      "execution_count": null,
      "source": [
        "arr = DatasetTargetToArray(prep)\n",
        "arr"
      ],
      "outputs": [
        {
          "output_type": "execute_result",
          "data": {
            "text/plain": [
              "array([[1.        , 0.15384615, 1.        , ..., 0.93209877, 0.30103806,\n",
              "        0.        ],\n",
              "       [0.        , 0.43076923, 1.        , ..., 0.17283951, 0.51211073,\n",
              "        0.        ],\n",
              "       [1.        , 0.58461538, 1.        , ..., 0.75925926, 0.183391  ,\n",
              "        0.        ],\n",
              "       ...,\n",
              "       [1.        , 0.04615385, 1.        , ..., 0.93209877, 0.74740484,\n",
              "        0.        ],\n",
              "       [0.        , 0.73846154, 1.        , ..., 0.75925926, 0.89965398,\n",
              "        0.        ],\n",
              "       [0.        , 0.38461538, 1.        , ..., 0.15432099, 0.11764706,\n",
              "        0.        ]])"
            ]
          },
          "metadata": {},
          "execution_count": 85
        }
      ],
      "metadata": {
        "colab": {
          "base_uri": "https://localhost:8080/"
        },
        "id": "GyC9cbVmc1ve",
        "outputId": "cc15f7d9-b025-42b2-cc8e-ddbacc9a0fc8"
      }
    },
    {
      "cell_type": "markdown",
      "source": [
        "#PEMODELAN"
      ],
      "metadata": {
        "id": "h0YCMJ1ZP9Vt"
      }
    },
    {
      "cell_type": "markdown",
      "source": [
        "## PILIHAN, pilih salahsatu model aja"
      ],
      "metadata": {
        "id": "RPFd-yopahvX"
      }
    },
    {
      "cell_type": "markdown",
      "source": [
        "### Decision Tree"
      ],
      "metadata": {
        "id": "rnc11I3vwV8y"
      }
    },
    {
      "cell_type": "code",
      "execution_count": null,
      "source": [
        "from sklearn.tree import DecisionTreeClassifier\n",
        "#Decision Tree\n",
        "cls = DecisionTreeClassifier(criterion=\"entropy\")\n",
        "cls.fit(train,train_target)"
      ],
      "outputs": [
        {
          "output_type": "execute_result",
          "data": {
            "text/plain": [
              "DecisionTreeClassifier(criterion='entropy')"
            ]
          },
          "metadata": {},
          "execution_count": 112
        }
      ],
      "metadata": {
        "colab": {
          "base_uri": "https://localhost:8080/"
        },
        "id": "XqTuMVgV1Q_Y",
        "outputId": "3aa9d740-65d4-4247-810e-74e3a55ce150"
      }
    },
    {
      "cell_type": "markdown",
      "source": [
        "### Logistic Regression"
      ],
      "metadata": {
        "id": "XBO9cPwNwNXb"
      }
    },
    {
      "cell_type": "code",
      "execution_count": null,
      "source": [
        "from sklearn.linear_model import LogisticRegression\n",
        "cls = LogisticRegression()\n",
        "cls.fit(train,train_target)"
      ],
      "outputs": [
        {
          "output_type": "execute_result",
          "data": {
            "text/plain": [
              "LogisticRegression()"
            ]
          },
          "metadata": {},
          "execution_count": 91
        }
      ],
      "metadata": {
        "colab": {
          "base_uri": "https://localhost:8080/"
        },
        "id": "B74qvNYxyy7l",
        "outputId": "cfee4d77-e13a-4aa4-dad0-07c6792ae24c"
      }
    },
    {
      "cell_type": "markdown",
      "source": [
        "### Linear Regression"
      ],
      "metadata": {
        "id": "GIv2hnqnyoEY"
      }
    },
    {
      "cell_type": "code",
      "execution_count": null,
      "source": [
        "from sklearn.linear_model import LinearRegression\n",
        "cls = LinearRegression()\n",
        "cls.fit(train,train_target)"
      ],
      "outputs": [
        {
          "output_type": "execute_result",
          "data": {
            "text/plain": [
              "LinearRegression()"
            ]
          },
          "metadata": {},
          "execution_count": 92
        }
      ],
      "metadata": {
        "colab": {
          "base_uri": "https://localhost:8080/"
        },
        "id": "Ffln_ZuLyuYq",
        "outputId": "e863b859-9892-42c4-9860-f5d33bcb124c"
      }
    },
    {
      "cell_type": "markdown",
      "source": [
        "### Linear SVM"
      ],
      "metadata": {
        "id": "6cSrU51PwhjI"
      }
    },
    {
      "cell_type": "code",
      "execution_count": null,
      "source": [
        "from sklearn import svm\n",
        "#SVM Linear Classifier\n",
        "cls = svm.SVC(kernel='linear') #Linear\n",
        "cls.fit(train,train_target)"
      ],
      "outputs": [
        {
          "output_type": "execute_result",
          "data": {
            "text/plain": [
              "SVC(kernel='linear')"
            ]
          },
          "metadata": {},
          "execution_count": 93
        }
      ],
      "metadata": {
        "colab": {
          "base_uri": "https://localhost:8080/"
        },
        "id": "ud6o_UUn1fSV",
        "outputId": "478ce7d0-113e-4aee-ff7a-14e1b0d0c634"
      }
    },
    {
      "cell_type": "markdown",
      "source": [
        "### SVM pake kernel RBF (41 menit sekali run)"
      ],
      "metadata": {
        "id": "2_k2_1VhwZSw"
      }
    },
    {
      "cell_type": "code",
      "execution_count": null,
      "source": [
        "#SVM RBF Classifier\n",
        "cls = svm.SVC(kernel='rbf') # RBF Kernel\n",
        "cls.fit(train,train_target)"
      ],
      "outputs": [
        {
          "output_type": "execute_result",
          "data": {
            "text/plain": [
              "SVC()"
            ]
          },
          "metadata": {},
          "execution_count": 94
        }
      ],
      "metadata": {
        "id": "mhjKBt8pnXJ3",
        "colab": {
          "base_uri": "https://localhost:8080/"
        },
        "outputId": "f14face3-4ff1-4491-ff65-83f92eff8d28"
      }
    },
    {
      "cell_type": "markdown",
      "source": [
        "### Gaussian Naive Bayes"
      ],
      "metadata": {
        "id": "N2FDPdmaxFtO"
      }
    },
    {
      "cell_type": "code",
      "execution_count": null,
      "source": [
        "from sklearn.naive_bayes import GaussianNB\n",
        "cls = GaussianNB()\n",
        "cls.fit(train,train_target)"
      ],
      "outputs": [
        {
          "output_type": "execute_result",
          "data": {
            "text/plain": [
              "GaussianNB()"
            ]
          },
          "metadata": {},
          "execution_count": 95
        }
      ],
      "metadata": {
        "colab": {
          "base_uri": "https://localhost:8080/"
        },
        "id": "vU0NbtD1xFL5",
        "outputId": "2794162a-9d5e-4e13-f50e-e9025c0d9d2e"
      }
    },
    {
      "cell_type": "markdown",
      "source": [
        "### Multinomial Naive Bayes"
      ],
      "metadata": {
        "id": "4Yu8LnxMyCJL"
      }
    },
    {
      "cell_type": "code",
      "execution_count": null,
      "source": [
        "from sklearn.naive_bayes import MultinomialNB\n",
        "cls = MultinomialNB()\n",
        "cls.fit(train,train_target)"
      ],
      "outputs": [
        {
          "output_type": "execute_result",
          "data": {
            "text/plain": [
              "MultinomialNB()"
            ]
          },
          "metadata": {},
          "execution_count": 96
        }
      ],
      "metadata": {
        "colab": {
          "base_uri": "https://localhost:8080/"
        },
        "id": "x0ag3UScyG4D",
        "outputId": "fae2fb52-61db-456f-fbac-67fa246969c9"
      }
    },
    {
      "cell_type": "markdown",
      "source": [
        "## Untuk Predict"
      ],
      "metadata": {
        "id": "gPIi8igxwxOT"
      }
    },
    {
      "cell_type": "code",
      "execution_count": null,
      "source": [
        "predict_target = cls.predict(test)\n",
        "predict_target"
      ],
      "outputs": [
        {
          "output_type": "execute_result",
          "data": {
            "text/plain": [
              "array([0., 0., 0., ..., 0., 0., 0.])"
            ]
          },
          "metadata": {},
          "execution_count": 113
        }
      ],
      "metadata": {
        "colab": {
          "base_uri": "https://localhost:8080/"
        },
        "id": "yTTJtnuhTn_X",
        "outputId": "cce78305-13c9-4f66-ea64-f8b14d2665c4"
      }
    },
    {
      "cell_type": "markdown",
      "source": [
        "#Evaluation"
      ],
      "metadata": {
        "id": "PnLJz-XOUhgZ"
      }
    },
    {
      "cell_type": "markdown",
      "source": [
        "Confusion Matrix"
      ],
      "metadata": {
        "id": "UUbkb4zIzUfe"
      }
    },
    {
      "cell_type": "code",
      "execution_count": null,
      "source": [
        "from sklearn.metrics import confusion_matrix\n",
        "cm = confusion_matrix(test_target,predict_target)\n",
        "cm"
      ],
      "outputs": [
        {
          "output_type": "execute_result",
          "data": {
            "text/plain": [
              "array([[34812,  3962],\n",
              "       [ 3762,  1631]])"
            ]
          },
          "metadata": {},
          "execution_count": 114
        }
      ],
      "metadata": {
        "colab": {
          "base_uri": "https://localhost:8080/"
        },
        "id": "3w2Jh8cYUkRJ",
        "outputId": "75ba84ef-1b96-4541-ad09-5c84891b9865"
      }
    },
    {
      "cell_type": "code",
      "execution_count": null,
      "source": [
        "#percentage\n",
        "(cm/np.sum(cm))*100"
      ],
      "outputs": [
        {
          "output_type": "execute_result",
          "data": {
            "text/plain": [
              "array([[78.81902778,  8.97049834],\n",
              "       [ 8.51767156,  3.69280232]])"
            ]
          },
          "metadata": {},
          "execution_count": 115
        }
      ],
      "metadata": {
        "colab": {
          "base_uri": "https://localhost:8080/"
        },
        "id": "VDopNu1pVSLb",
        "outputId": "f13bc706-637a-4401-a4b0-5b2d598415e6"
      }
    },
    {
      "cell_type": "code",
      "execution_count": null,
      "source": [
        "ax = sns.heatmap(cm/np.sum(cm), annot=True, \n",
        "            fmt='.2%', cmap='Blues')\n",
        "\n",
        "ax.set_title('Seaborn Confusion Matrix with labels\\n\\n');\n",
        "ax.set_xlabel('\\nPredicted Values')\n",
        "ax.set_ylabel('Actual Values ');\n",
        "\n",
        "## Ticket labels - List must be in alphabetical order\n",
        "ax.xaxis.set_ticklabels(['False','True']) #bisa positive negative\n",
        "ax.yaxis.set_ticklabels(['False','True'])\n",
        "\n",
        "## Display the visualization of the Confusion Matrix.\n",
        "plt.show()"
      ],
      "outputs": [
        {
          "output_type": "display_data",
          "data": {
            "image/png": "[encoded data removed]",
            "text/plain": [
              "<Figure size 432x288 with 2 Axes>"
            ]
          },
          "metadata": {
            "needs_background": "light"
          }
        }
      ],
      "metadata": {
        "colab": {
          "base_uri": "https://localhost:8080/",
          "height": 337
        },
        "id": "ilTmrkz7V8j-",
        "outputId": "3245a8bf-9e43-4102-fbf3-148628d1ca25"
      }
    },
    {
      "cell_type": "code",
      "execution_count": null,
      "source": [
        "TN = cm[0][0]\n",
        "FN = cm[1][0]\n",
        "TP = cm[1][1]\n",
        "FP = cm[0][1]\n",
        "\n",
        "print(\"True Negative  :\" , TN) \n",
        "print(\"False Negative :\" , FN)\n",
        "print(\"True Positive  :\" , TP)\n",
        "print(\"False Positive :\" , FP)"
      ],
      "outputs": [
        {
          "output_type": "stream",
          "name": "stdout",
          "text": [
            "True Negative  : 34812\n",
            "False Negative : 3762\n",
            "True Positive  : 1631\n",
            "False Positive : 3962\n"
          ]
        }
      ],
      "metadata": {
        "colab": {
          "base_uri": "https://localhost:8080/"
        },
        "id": "oSW5lUQYauYr",
        "outputId": "226b7da1-6a3c-469e-e347-cf46b0bf330b"
      }
    },
    {
      "cell_type": "markdown",
      "source": [
        "## Scores"
      ],
      "metadata": {
        "id": "sHalxbe8JZoK"
      }
    },
    {
      "cell_type": "markdown",
      "source": [
        "bisa pake ini"
      ],
      "metadata": {
        "id": "0fLcVp6Y01X7"
      }
    },
    {
      "cell_type": "code",
      "execution_count": null,
      "source": [
        "FPR = FP/(FP+TN)\n",
        "FNR = FN/(FN+TP)\n",
        "TNR = TN/(TN+FP)\n",
        "TPR = TP/(TP+FN)\n",
        "ACC = ((TP + TN)/(TP+TN+FP+FN)) \n",
        "PCR = TP/(TP+FP)\n",
        "#F1S = round( (2/((1/PCR)+(1/ACC))) * 100, 2)\n",
        "F1S = 2/((1/PCR)+(1/ACC))\n",
        "JAC = (TN/(TN+FP+FN))+(TP/(TP+FN+FP))"
      ],
      "outputs": [],
      "metadata": {
        "id": "oFqPvbKQWpSw"
      }
    },
    {
      "cell_type": "markdown",
      "source": [
        "bisa pake cara library"
      ],
      "metadata": {
        "id": "e_bFr-4s03D8"
      }
    },
    {
      "cell_type": "code",
      "execution_count": null,
      "source": [
        "from sklearn import metrics\n",
        "TPR = metrics.recall_score(test_target,predict_target)\n",
        "ACC = metrics.accuracy_score(test_target,predict_target)\n",
        "F1S = metrics.f1_score(test_target,predict_target)\n",
        "PCR = metrics.precision_score(test_target,predict_target)\n",
        "JAC = metrics.jaccard_score(test_target,predict_target)"
      ],
      "outputs": [],
      "metadata": {
        "id": "q9ZuWLWD06vY"
      }
    },
    {
      "cell_type": "markdown",
      "source": [
        "yang wajib di ambil accuracy sama precision"
      ],
      "metadata": {
        "id": "D6U24q_4_V1v"
      }
    },
    {
      "cell_type": "code",
      "execution_count": null,
      "source": [
        "print(\"False Positive Rate  :\" , FPR)\n",
        "print(\"False Negative Rate :\" , FNR)\n",
        "print(\"True Negative Rate :\" , TNR)\n",
        "print(\"True Positive Rate (Recall) :\" , TPR) #TPR dan Recall sama\n",
        "print(\"Accuracy  :\", ACC)\n",
        "print(\"Precision :\", PCR)\n",
        "print(\"F1 Score  :\", F1S)\n",
        "print(\"Jaccard Score  :\", JAC)"
      ],
      "outputs": [
        {
          "output_type": "stream",
          "name": "stdout",
          "text": [
            "False Positive Rate  : 0.10218187445195234\n",
            "False Negative Rate : 0.6975709252735027\n",
            "True Negative Rate : 0.8978181255480476\n",
            "True Positive Rate (Recall) : 0.3024290747264973\n",
            "Accuracy  : 0.8251183009939548\n",
            "Precision : 0.29161451814768463\n",
            "F1 Score  : 0.296923356999818\n",
            "Jaccard Score  : 0.1743452699091395\n"
          ]
        }
      ],
      "metadata": {
        "colab": {
          "base_uri": "https://localhost:8080/"
        },
        "id": "MnxIlYbf07HZ",
        "outputId": "478816a3-4872-405d-cdae-7728f0f56716"
      }
    },
    {
      "cell_type": "markdown",
      "source": [
        "#Eksperimen terserah"
      ],
      "metadata": {
        "id": "KShqPpgnbP-7"
      }
    }
  ]
}